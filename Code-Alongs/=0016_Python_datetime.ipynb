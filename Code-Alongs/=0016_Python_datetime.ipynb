{
 "cells": [
  {
   "cell_type": "markdown",
   "metadata": {},
   "source": [
    "# Working with date and time in python"
   ]
  },
  {
   "cell_type": "code",
   "execution_count": 1,
   "metadata": {},
   "outputs": [],
   "source": [
    "from datetime import datetime, timedelta, date, time"
   ]
  },
  {
   "cell_type": "code",
   "execution_count": 6,
   "metadata": {},
   "outputs": [
    {
     "data": {
      "text/plain": [
       "datetime.datetime(2023, 11, 10, 9, 9, 18, 539188)"
      ]
     },
     "metadata": {},
     "output_type": "display_data"
    }
   ],
   "source": [
    "now = datetime.now()\n",
    "display(now)"
   ]
  },
  {
   "cell_type": "code",
   "execution_count": 5,
   "metadata": {},
   "outputs": [
    {
     "name": "stdout",
     "output_type": "stream",
     "text": [
      "Now is 2023-11-10 09:07:37.641670\n",
      "now = datetime.datetime(2023, 11, 10, 9, 7, 37, 641670)\n"
     ]
    }
   ],
   "source": [
    "print(f\"Now is {now}\")\n",
    "print(f\"{now = }\")"
   ]
  },
  {
   "cell_type": "code",
   "execution_count": 22,
   "metadata": {},
   "outputs": [
    {
     "name": "stdout",
     "output_type": "stream",
     "text": [
      "now.year = 2023\n",
      "now.month = 11\n",
      "now.day = 10\n",
      "now.hour = 9\n",
      "now.minute = 9\n",
      "now.second = 18\n",
      "now.microsecond = 539188\n",
      "now.weekday() = 4\n",
      "now.isoweekday() = 5\n",
      "now.isocalendar() = datetime.IsoCalendarDate(year=2023, week=45, weekday=5)\n",
      "now.isocalendar().week = 45\n"
     ]
    }
   ],
   "source": [
    "# Besides these, it is also possible to get which quarter of the year, etc.\n",
    "print(f\"{now.year = }\")\n",
    "print(f\"{now.month = }\")\n",
    "print(f\"{now.day = }\")\n",
    "print(f\"{now.hour = }\")\n",
    "print(f\"{now.minute = }\")\n",
    "print(f\"{now.second = }\")\n",
    "print(f\"{now.microsecond = }\")\n",
    "print(f\"{now.weekday() = }\")\n",
    "print(f\"{now.isoweekday() = }\")\n",
    "print(f\"{now.isocalendar() = }\")\n",
    "print(f\"{now.isocalendar().week = }\")"
   ]
  },
  {
   "cell_type": "code",
   "execution_count": 11,
   "metadata": {},
   "outputs": [
    {
     "name": "stdout",
     "output_type": "stream",
     "text": [
      "now.strftime('%Y-%m-%d %H:%M:%S') = '2023-11-10 09:09:18'\n",
      "now.strftime('Today is a %A in %B') = 'Today is a Friday in November'\n"
     ]
    }
   ],
   "source": [
    "# Search for syntax\n",
    "print(f\"{now.strftime('%Y-%m-%d %H:%M:%S') = }\")\n",
    "print(f\"{now.strftime('Today is a %A in %B') = }\")"
   ]
  },
  {
   "cell_type": "code",
   "execution_count": 14,
   "metadata": {},
   "outputs": [
    {
     "data": {
      "text/plain": [
       "'2023-12-24 00:00:00'"
      ]
     },
     "execution_count": 14,
     "metadata": {},
     "output_type": "execute_result"
    }
   ],
   "source": [
    "# Constructor takes year, month, day as a minimum\n",
    "christmas = datetime(2023, 12, 24)\n",
    "str(christmas)"
   ]
  },
  {
   "cell_type": "code",
   "execution_count": 28,
   "metadata": {},
   "outputs": [
    {
     "name": "stdout",
     "output_type": "stream",
     "text": [
      "next_year = datetime.datetime(2024, 1, 1, 0, 0)\n"
     ]
    }
   ],
   "source": [
    "# Parsing a string\n",
    "new_year = \"2024-01-01\"\n",
    "next_year = datetime.strptime(new_year, \"%Y-%m-%d\")\n",
    "print(f\"{next_year = }\")"
   ]
  },
  {
   "cell_type": "code",
   "execution_count": 26,
   "metadata": {},
   "outputs": [
    {
     "name": "stdout",
     "output_type": "stream",
     "text": [
      "now.date() = datetime.date(2023, 11, 10)\n",
      "now.time() = datetime.time(9, 9, 18, 539188)\n"
     ]
    }
   ],
   "source": [
    "# Just the date\n",
    "print(f\"{now.date() = }\")\n",
    "# Just the time\n",
    "print(f\"{now.time() = }\")"
   ]
  },
  {
   "cell_type": "markdown",
   "metadata": {},
   "source": [
    "## Timedelta"
   ]
  },
  {
   "cell_type": "code",
   "execution_count": 32,
   "metadata": {},
   "outputs": [
    {
     "name": "stdout",
     "output_type": "stream",
     "text": [
      "str(tim_until_next_year) = '51 days, 14:26:09.193155'\n",
      "repr(tim_until_next_year) = 'datetime.timedelta(days=51, seconds=51969, microseconds=193155)'\n"
     ]
    }
   ],
   "source": [
    "# Calculating the difference between two datetimes gives a timedelta object.\n",
    "\n",
    "tim_until_next_year = next_year - datetime.now()\n",
    "print(f\"{str(tim_until_next_year) = }\")\n",
    "print(f\"{repr(tim_until_next_year) = }\")"
   ]
  },
  {
   "cell_type": "code",
   "execution_count": 33,
   "metadata": {},
   "outputs": [
    {
     "name": "stdout",
     "output_type": "stream",
     "text": [
      "tim_until_next_year.days = 51\n",
      "tim_until_next_year.seconds = 51969\n",
      "tim_until_next_year.microseconds = 193155\n",
      "tim_until_next_year.total_seconds() = 4458369.193155\n"
     ]
    }
   ],
   "source": [
    "# Available attributes\n",
    "print(f\"{tim_until_next_year.days = }\")\n",
    "print(f\"{tim_until_next_year.seconds = }\")\n",
    "print(f\"{tim_until_next_year.microseconds = }\")\n",
    "print(f\"{tim_until_next_year.total_seconds() = }\")"
   ]
  },
  {
   "cell_type": "code",
   "execution_count": 37,
   "metadata": {},
   "outputs": [
    {
     "name": "stdout",
     "output_type": "stream",
     "text": [
      "tim_until_next_year / 2 = datetime.timedelta(days=25, seconds=69184, microseconds=596578)\n",
      "tim_until_next_year * 2 = datetime.timedelta(days=103, seconds=17538, microseconds=386310)\n",
      "tim_until_next_year + timedelta(days=1) = datetime.timedelta(days=52, seconds=51969, microseconds=193155)\n"
     ]
    }
   ],
   "source": [
    "# Arithmetic operations\n",
    "print(f\"{tim_until_next_year / 2 = }\")\n",
    "print(f\"{tim_until_next_year * 2 = }\")\n",
    "print(f\"{tim_until_next_year + timedelta(days=1) = }\")"
   ]
  },
  {
   "cell_type": "code",
   "execution_count": 39,
   "metadata": {},
   "outputs": [
    {
     "data": {
      "text/plain": [
       "datetime.datetime(2024, 2, 21, 14, 26, 9, 193155)"
      ]
     },
     "execution_count": 39,
     "metadata": {},
     "output_type": "execute_result"
    }
   ],
   "source": [
    "# Adding or subtracting a timedelta to or from a datetime gives a datetime.\n",
    "next_year + tim_until_next_year"
   ]
  },
  {
   "cell_type": "code",
   "execution_count": 40,
   "metadata": {},
   "outputs": [
    {
     "name": "stdout",
     "output_type": "stream",
     "text": [
      "2023-11-15 09:43:20.160019\n"
     ]
    }
   ],
   "source": [
    "# What date is it in 5 days?\n",
    "print(datetime.now() + timedelta(5))"
   ]
  },
  {
   "cell_type": "code",
   "execution_count": 41,
   "metadata": {},
   "outputs": [],
   "source": [
    "from dateutil.relativedelta import relativedelta"
   ]
  },
  {
   "cell_type": "code",
   "execution_count": 45,
   "metadata": {},
   "outputs": [
    {
     "name": "stdout",
     "output_type": "stream",
     "text": [
      "2023-12-10 09:47:19.465050\n",
      "2018-11-10 09:47:19.465050\n",
      "2023-10-06 09:47:19.466052\n"
     ]
    }
   ],
   "source": [
    "# For months and years, use relativedelta\n",
    "print(datetime.now() + relativedelta(months=1))\n",
    "print(datetime.now() - relativedelta(years=5))\n",
    "print(datetime.now() - relativedelta(weeks=5))"
   ]
  }
 ],
 "metadata": {
  "kernelspec": {
   "display_name": "Data-processing-Mikael-Folkesson-0xUSJgLP",
   "language": "python",
   "name": "python3"
  },
  "language_info": {
   "codemirror_mode": {
    "name": "ipython",
    "version": 3
   },
   "file_extension": ".py",
   "mimetype": "text/x-python",
   "name": "python",
   "nbconvert_exporter": "python",
   "pygments_lexer": "ipython3",
   "version": "3.11.5"
  }
 },
 "nbformat": 4,
 "nbformat_minor": 2
}
