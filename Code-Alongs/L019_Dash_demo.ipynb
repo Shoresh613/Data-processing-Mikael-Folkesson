{
 "cells": [
  {
   "cell_type": "code",
   "execution_count": 10,
   "metadata": {},
   "outputs": [
    {
     "data": {
      "text/html": [
       "\n",
       "        <iframe\n",
       "            width=\"100%\"\n",
       "            height=\"650\"\n",
       "            src=\"http://127.0.0.1:8050/\"\n",
       "            frameborder=\"0\"\n",
       "            allowfullscreen\n",
       "            \n",
       "        ></iframe>\n",
       "        "
      ],
      "text/plain": [
       "<IPython.lib.display.IFrame at 0x263734b20d0>"
      ]
     },
     "metadata": {},
     "output_type": "display_data"
    }
   ],
   "source": [
    "from dash import Dash, html, dcc, callback, Input, Output\n",
    "import plotly.express as px\n",
    "\n",
    "df = px.data.gapminder()\n",
    "\n",
    "# Three things needed to create a Dash app basically. Components, Layout, and App (logic)\n",
    "app = Dash(__name__)\n",
    "\n",
    "my_H1 = html.H1(\"My dash application\", style={\"Font-family\": \"Arial\"})\n",
    "my_H2 = html.H2(\"More info\")\n",
    "my_dropdown = dcc.Dropdown(options=df['year'].unique(), style={\"width\": \"200px\"}, value=2007)\n",
    "my_dropdown_multi = dcc.Dropdown(id=\"my_dropdown\", options=[\"Äpple\",\"Päron\",\"Banan\",\"Apelsin\",\"Mango\"], multi=True, value=\"Mango\")\n",
    "my_graph = dcc.Graph(id=\"my_graph\", figure={})\n",
    "my_button = html.Button(\"Click here!\")\n",
    "\n",
    "# It's also possible to enter the items directly, without using variables\n",
    "# This is the more common way to do it\n",
    "\n",
    "# app.layout = html.Div([\n",
    "#     html.H1(\"My dash application\", style={\"font-family\": \"Arial\"}),\n",
    "#     html.H2(\"More info\"),\n",
    "#     dcc.Dropdown(options=[{'label': year, 'value': year} for year in df['year'].unique()], style={\"width\": \"200px\"}, value=2007),\n",
    "#     dcc.Dropdown(id=\"my_dropdown\", options=[{'label': fruit, 'value': fruit} for fruit in [\"Äpple\", \"Päron\", \"Banan\", \"Apelsin\", \"Mango\"]], multi=True, value=\"Mango\"),\n",
    "#     dcc.Graph(id=\"my_graph\", figure={}),\n",
    "#     html.Button(\"Click here!\")\n",
    "# ], style={'backgroundColor': 'white'})\n",
    "\n",
    "app.layout = html.Div([my_H1, my_H2, my_dropdown, my_dropdown_multi, my_graph, my_button], style={'backgroundColor': 'white'})\n",
    "\n",
    "# Callbacks are used to update the page when something happens, they are decorators\n",
    "# Calls the function update_heading when the value of my_dropdown changes\n",
    "@callback(\n",
    "    Output(my_H2, 'children'),\n",
    "    Output(my_graph, 'figure'),\n",
    "    Input(my_dropdown, 'value')\n",
    ")\n",
    "def select_year(year):\n",
    "    text = f\"Life expectancy in {year}\"\n",
    "    figure = px.strip(df.query(\"year == @year\"), x=\"lifeExp\", color=\"continent\", hover_name=\"country\", log_x=True)\n",
    "    # Returns a tuple because we have two outputs, in the order they are defined in the callback\n",
    "    return text, figure\n",
    "\n",
    "@callback(\n",
    "    Output(my_H1, 'children'),\n",
    "    Input(my_button, 'n_clicks')\n",
    ")\n",
    "def button_clicked(n_clicks):\n",
    "    return f\"Button clicked {n_clicks} times\"\n",
    "\n",
    "# Default mode is to run in a jupyter notebook, but we want to run it in a browser\n",
    "# app.run(debug=True, jupyter_mode=\"external\", port=3000)\n",
    "app.run(debug=True)\n"
   ]
  }
 ],
 "metadata": {
  "kernelspec": {
   "display_name": "Data-processing-Mikael-Folkesson-0xUSJgLP",
   "language": "python",
   "name": "python3"
  },
  "language_info": {
   "codemirror_mode": {
    "name": "ipython",
    "version": 3
   },
   "file_extension": ".py",
   "mimetype": "text/x-python",
   "name": "python",
   "nbconvert_exporter": "python",
   "pygments_lexer": "ipython3",
   "version": "3.11.5"
  }
 },
 "nbformat": 4,
 "nbformat_minor": 2
}
