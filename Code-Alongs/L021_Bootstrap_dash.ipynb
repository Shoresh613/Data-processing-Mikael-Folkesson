{
 "cells": [
  {
   "cell_type": "code",
   "execution_count": 38,
   "metadata": {},
   "outputs": [
    {
     "name": "stdout",
     "output_type": "stream",
     "text": [
      "Dash app running on http://127.0.0.1:8050/\n"
     ]
    }
   ],
   "source": [
    "from dash import Dash, html, dcc, Input, Output, callback\n",
    "import dash_bootstrap_components as dbc\n",
    "\n",
    "app = Dash(__name__, external_stylesheets=[dbc.themes.DARKLY],\n",
    "           meta_tags=[{\"name\": \"viewport\", \"content\": \"width=device-width, initial-scale=1\"}]) # To tell browser that the website is responsive\n",
    "\n",
    "app.layout = dbc.Container([\n",
    "    # \"Hello bootstrap!\",\n",
    "    # dbc.Button(\"Click me!\", color=\"primary\", className=\"ms-2 text-uppercase\"), # ms-2: margin start (to the left) 2\n",
    "\n",
    "    # Demonstrating the grid system\n",
    "    dbc.Row([\n",
    "        dbc.Col(\n",
    "            children=dbc.Input(id=\"input1\", type=\"text\", placeholder=\"First name\"),\n",
    "        #    width=6, # Default is 12 (because it's the most divisible number), so this is 4/12\n",
    "        #    className=\"mt-2\", # offset is the number of columns (out of the 12 in Bootstrap) to skip),\n",
    "            xs=12, sm=6, md=6, lg=3\n",
    "        ),\n",
    "        dbc.Col(\n",
    "            children=[\n",
    "                dbc.Input(id=\"input2\", type=\"text\", placeholder=\"Last name\"),\n",
    "                ],\n",
    "            xs=12, sm=6, md=6, lg=3\n",
    "        ),\n",
    "        dbc.Col(\n",
    "            children=dbc.Input(id=\"text1\", type=\"text\", placeholder=\"email\"),\n",
    "            xs=12, sm=6, md=6, lg=3\n",
    "        ),\n",
    "        dbc.Col(\n",
    "            children=dbc.Input(id=\"text2\", type=\"text\", placeholder=\"phone\"),\n",
    "            xs=12, sm=6, md=6, lg=3\n",
    "        ),\n",
    "    ], justify=\"center\")\n",
    "], fluid=True)\n",
    "\n",
    "app.run(debug=True, jupyter_mode=\"external\")"
   ]
  }
 ],
 "metadata": {
  "kernelspec": {
   "display_name": "Data-processing-Mikael-Folkesson-0xUSJgLP",
   "language": "python",
   "name": "python3"
  },
  "language_info": {
   "codemirror_mode": {
    "name": "ipython",
    "version": 3
   },
   "file_extension": ".py",
   "mimetype": "text/x-python",
   "name": "python",
   "nbconvert_exporter": "python",
   "pygments_lexer": "ipython3",
   "version": "3.11.5"
  }
 },
 "nbformat": 4,
 "nbformat_minor": 2
}
