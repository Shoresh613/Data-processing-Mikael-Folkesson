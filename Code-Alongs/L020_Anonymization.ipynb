{
 "cells": [
  {
   "cell_type": "markdown",
   "metadata": {},
   "source": [
    "* **Pseudonymization: ** Replacing identifying inormation on such a way that the process can be reversed (with extra informaton)\n",
    "* **Anonymization: ** Replacing identifyibg information woth the *intent* to be fully non-reversible.\n",
    "\n",
    "### Techniques for anonymization\n",
    "- **Hashing / Crypto:** Fredrik Johansson -> hd9hd98g70dg0f8g89d7g98df79g\n",
    "- **Data masking ** fredrik@everyloop.com -> f****@*****.com\n",
    "- Generalization: Age34 -> Age: 30-40\n",
    "- **Aggregation:** Group and aggregate\n",
    "- **Rmoving data ** Remve column(s) from dataset."
   ]
  },
  {
   "cell_type": "markdown",
   "metadata": {},
   "source": [
    "# Anonymization with hash\n",
    "- There are many types of hash functions (algorithms). Example MD5, SHA-128, SHA-256\n",
    "- Hash functions are usd to map data of arbitrary size to fixed-size values.\n",
    "- The same input always results in the same output (given it's using the same algorithm)\n",
    "- Even a small change in the input yields a totally different output string.\n",
    "- It's not possible to reverse the process (i.e., given the output hash we can not get the orginal string back.\n",
    "\n",
    "Used to store passwords, or to imprve speed of searches if the data to match is very large, then it's better to search for the short hash string."
   ]
  },
  {
   "cell_type": "code",
   "execution_count": 5,
   "metadata": {},
   "outputs": [
    {
     "data": {
      "text/plain": [
       "'d22b947784e2fb59e57d66264dce9bb431373687cc19f6e5d8d53d787331f90a'"
      ]
     },
     "execution_count": 5,
     "metadata": {},
     "output_type": "execute_result"
    }
   ],
   "source": [
    "import hashlib as hl\n",
    "\n",
    "# The hashing funcions require text in utf-8 format\n",
    "text = \"top secret information\".encode('utf-8') #utf-8 s'is the default encoding\n",
    "text.hex()\n",
    "\n",
    "hl.sha256(text).hexdigest()"
   ]
  },
  {
   "cell_type": "code",
   "execution_count": 9,
   "metadata": {},
   "outputs": [
    {
     "name": "stdout",
     "output_type": "stream",
     "text": [
      "64ec88ca00b268e5ba1a35678a1b5316d212f4f366b2477232534a8aeca37f3c\n",
      "b94d27b9934d3e08a52e52d7da7dabfac484efe37a5380ee9088f7ace2efcde9\n"
     ]
    }
   ],
   "source": [
    "# Asmall change in the text will result in a completely different hash\n",
    "print(hl.sha256(\"Hello world\".encode()).hexdigest())\n",
    "print(hl.sha256(\"hello world\".encode()).hexdigest())\n"
   ]
  }
 ],
 "metadata": {
  "kernelspec": {
   "display_name": "Python 3",
   "language": "python",
   "name": "python3"
  },
  "language_info": {
   "codemirror_mode": {
    "name": "ipython",
    "version": 3
   },
   "file_extension": ".py",
   "mimetype": "text/x-python",
   "name": "python",
   "nbconvert_exporter": "python",
   "pygments_lexer": "ipython3",
   "version": "3.11.6"
  }
 },
 "nbformat": 4,
 "nbformat_minor": 2
}
