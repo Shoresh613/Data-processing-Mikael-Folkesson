{
 "cells": [
  {
   "cell_type": "markdown",
   "metadata": {},
   "source": [
    "* **Pseudonymization: ** Replacing identifying inormation on such a way that the process can be reversed (with extra informaton)\n",
    "* **Anonymization: ** Replacing identifyibg information woth the *intent* to be fully non-reversible.\n",
    "\n",
    "### Techniques for anonymization\n",
    "- **Hashing / Crypto:** Fredrik Johansson -> hd9hd98g70dg0f8g89d7g98df79g\n",
    "- **Data masking ** fredrik@everyloop.com -> f****@*****.com\n",
    "- Generalization: Age34 -> Age: 30-40\n",
    "- **Aggregation:** Group and aggregate\n",
    "- **Rmoving data ** Remve column(s) from dataset."
   ]
  },
  {
   "cell_type": "markdown",
   "metadata": {},
   "source": [
    "# Anonymization with hash\n",
    "- There are many types of hash functions (algorithms). Example MD5, SHA-128, SHA-256\n",
    "- Hash functions are usd to map data of arbitrary size to fixed-size values.\n",
    "- The same input always results in the same output (given it's using the same algorithm)\n",
    "- Even a small change in the input yields a totally different output string.\n",
    "- It's not possible to reverse the process (i.e., given the output hash we can not get the orginal string back.\n",
    "\n",
    "Used to store passwords, or to imprve speed of searches if the data to match is very large, then it's better to search for the short hash string."
   ]
  },
  {
   "cell_type": "code",
   "execution_count": 3,
   "metadata": {},
   "outputs": [
    {
     "data": {
      "text/plain": [
       "'d22b947784e2fb59e57d66264dce9bb431373687cc19f6e5d8d53d787331f90a'"
      ]
     },
     "execution_count": 3,
     "metadata": {},
     "output_type": "execute_result"
    }
   ],
   "source": [
    "import hashlib as hl\n",
    "\n",
    "# The hashing funcions require text in utf-8 format\n",
    "text = \"top secret information\".encode('utf-8') #utf-8 s'is the default encoding\n",
    "text.hex()\n",
    "\n",
    "hl.sha256(text).hexdigest()"
   ]
  },
  {
   "cell_type": "code",
   "execution_count": 4,
   "metadata": {},
   "outputs": [
    {
     "name": "stdout",
     "output_type": "stream",
     "text": [
      "64ec88ca00b268e5ba1a35678a1b5316d212f4f366b2477232534a8aeca37f3c\n",
      "b94d27b9934d3e08a52e52d7da7dabfac484efe37a5380ee9088f7ace2efcde9\n"
     ]
    }
   ],
   "source": [
    "# Asmall change in the text will result in a completely different hash\n",
    "print(hl.sha256(\"Hello world\".encode()).hexdigest())\n",
    "print(hl.sha256(\"hello world\".encode()).hexdigest())\n"
   ]
  },
  {
   "cell_type": "code",
   "execution_count": 5,
   "metadata": {},
   "outputs": [],
   "source": [
    "import pandas as pd\n",
    "employees = pd.read_json('../Data/employees.json')"
   ]
  },
  {
   "cell_type": "code",
   "execution_count": 6,
   "metadata": {},
   "outputs": [
    {
     "data": {
      "text/html": [
       "<div>\n",
       "<style scoped>\n",
       "    .dataframe tbody tr th:only-of-type {\n",
       "        vertical-align: middle;\n",
       "    }\n",
       "\n",
       "    .dataframe tbody tr th {\n",
       "        vertical-align: top;\n",
       "    }\n",
       "\n",
       "    .dataframe thead th {\n",
       "        text-align: right;\n",
       "    }\n",
       "</style>\n",
       "<table border=\"1\" class=\"dataframe\">\n",
       "  <thead>\n",
       "    <tr style=\"text-align: right;\">\n",
       "      <th></th>\n",
       "      <th>first_name</th>\n",
       "      <th>last_name</th>\n",
       "      <th>job_title</th>\n",
       "      <th>salary</th>\n",
       "      <th>department</th>\n",
       "    </tr>\n",
       "  </thead>\n",
       "  <tbody>\n",
       "    <tr>\n",
       "      <th>0</th>\n",
       "      <td>a8cfcd74832004951b4408cdb0a5dbcd8c7e52d43f7fe2...</td>\n",
       "      <td>Doe</td>\n",
       "      <td>Sales Director</td>\n",
       "      <td>120000</td>\n",
       "      <td>Sales</td>\n",
       "    </tr>\n",
       "    <tr>\n",
       "      <th>1</th>\n",
       "      <td>4f23798d92708359b734a18172c9c864f1d48044a75411...</td>\n",
       "      <td>Smith</td>\n",
       "      <td>HR Coordinator</td>\n",
       "      <td>60000</td>\n",
       "      <td>Human Resources</td>\n",
       "    </tr>\n",
       "    <tr>\n",
       "      <th>2</th>\n",
       "      <td>f089eaef57aba315bc0e1455985c0c8e40c247f073ce1f...</td>\n",
       "      <td>Johnson</td>\n",
       "      <td>Software Engineer</td>\n",
       "      <td>110000</td>\n",
       "      <td>IT</td>\n",
       "    </tr>\n",
       "    <tr>\n",
       "      <th>3</th>\n",
       "      <td>7e8c729e4e4ecc320cb411c4d1419bf5fbad733212d4e9...</td>\n",
       "      <td>Williams</td>\n",
       "      <td>Marketing Specialist</td>\n",
       "      <td>75000</td>\n",
       "      <td>Sales</td>\n",
       "    </tr>\n",
       "    <tr>\n",
       "      <th>4</th>\n",
       "      <td>a6b54c20a7b96eeac1a911e6da3124a560fe6dc042ebf2...</td>\n",
       "      <td>Brown</td>\n",
       "      <td>HR Manager</td>\n",
       "      <td>90000</td>\n",
       "      <td>Human Resources</td>\n",
       "    </tr>\n",
       "  </tbody>\n",
       "</table>\n",
       "</div>"
      ],
      "text/plain": [
       "                                          first_name last_name  \\\n",
       "0  a8cfcd74832004951b4408cdb0a5dbcd8c7e52d43f7fe2...       Doe   \n",
       "1  4f23798d92708359b734a18172c9c864f1d48044a75411...     Smith   \n",
       "2  f089eaef57aba315bc0e1455985c0c8e40c247f073ce1f...   Johnson   \n",
       "3  7e8c729e4e4ecc320cb411c4d1419bf5fbad733212d4e9...  Williams   \n",
       "4  a6b54c20a7b96eeac1a911e6da3124a560fe6dc042ebf2...     Brown   \n",
       "\n",
       "              job_title  salary       department  \n",
       "0        Sales Director  120000            Sales  \n",
       "1        HR Coordinator   60000  Human Resources  \n",
       "2     Software Engineer  110000               IT  \n",
       "3  Marketing Specialist   75000            Sales  \n",
       "4            HR Manager   90000  Human Resources  "
      ]
     },
     "execution_count": 6,
     "metadata": {},
     "output_type": "execute_result"
    }
   ],
   "source": [
    "employees[\"first_name\"] = employees[\"first_name\"].apply(lambda name: hl.sha256(name.encode()).hexdigest())\n",
    "employees.head()"
   ]
  },
  {
   "cell_type": "markdown",
   "metadata": {},
   "source": [
    "### Brute force\n",
    "Checking of the hash to find the name. \n",
    "Easier when it comes to names, but passwords are more difficult.\n",
    "\n",
    "30% of users share the same top 100 passwords, and 10% of users share the same top 1000 passwords.\n",
    "So when trying that list you get 30% of the passwords.\n",
    "\n",
    "You can do brute force attacks with a dictionary of common passwords. Or test all possible combinations.\n",
    "That's when salt comes in. You add a random string to the password before hashing it.\n",
    "Then it's only possible to brute force one password at a time, not unlock all users with the same password in one go."
   ]
  },
  {
   "cell_type": "code",
   "execution_count": 7,
   "metadata": {},
   "outputs": [
    {
     "name": "stdout",
     "output_type": "stream",
     "text": [
      "a8cfcd74832004951b4408cdb0a5dbcd8c7e52d43f7fe244bf720582e05241da\n"
     ]
    },
    {
     "data": {
      "text/html": [
       "<div>\n",
       "<style scoped>\n",
       "    .dataframe tbody tr th:only-of-type {\n",
       "        vertical-align: middle;\n",
       "    }\n",
       "\n",
       "    .dataframe tbody tr th {\n",
       "        vertical-align: top;\n",
       "    }\n",
       "\n",
       "    .dataframe thead th {\n",
       "        text-align: right;\n",
       "    }\n",
       "</style>\n",
       "<table border=\"1\" class=\"dataframe\">\n",
       "  <thead>\n",
       "    <tr style=\"text-align: right;\">\n",
       "      <th></th>\n",
       "      <th>first_name</th>\n",
       "      <th>last_name</th>\n",
       "      <th>job_title</th>\n",
       "      <th>salary</th>\n",
       "      <th>department</th>\n",
       "    </tr>\n",
       "  </thead>\n",
       "  <tbody>\n",
       "    <tr>\n",
       "      <th>0</th>\n",
       "      <td>a8cfcd74832004951b4408cdb0a5dbcd8c7e52d43f7fe2...</td>\n",
       "      <td>Doe</td>\n",
       "      <td>Sales Director</td>\n",
       "      <td>120000</td>\n",
       "      <td>Sales</td>\n",
       "    </tr>\n",
       "  </tbody>\n",
       "</table>\n",
       "</div>"
      ],
      "text/plain": [
       "                                          first_name last_name  \\\n",
       "0  a8cfcd74832004951b4408cdb0a5dbcd8c7e52d43f7fe2...       Doe   \n",
       "\n",
       "        job_title  salary department  \n",
       "0  Sales Director  120000      Sales  "
      ]
     },
     "execution_count": 7,
     "metadata": {},
     "output_type": "execute_result"
    }
   ],
   "source": [
    "name = input(\"Enter name: \")\n",
    "name_hash = hl.sha256(name.encode()).hexdigest()\n",
    "print(name_hash)\n",
    "employees.query(\"first_name == @name_hash\")"
   ]
  },
  {
   "cell_type": "markdown",
   "metadata": {},
   "source": [
    "Watch [\"The Anonymization Problem - Computerphile\"](https://www.youtube.com/watch?v=puQvpyf0W-M&t=119s&ab_channel=Computerphile) on Youtube."
   ]
  }
 ],
 "metadata": {
  "kernelspec": {
   "display_name": "Python 3",
   "language": "python",
   "name": "python3"
  },
  "language_info": {
   "codemirror_mode": {
    "name": "ipython",
    "version": 3
   },
   "file_extension": ".py",
   "mimetype": "text/x-python",
   "name": "python",
   "nbconvert_exporter": "python",
   "pygments_lexer": "ipython3",
   "version": "3.11.5"
  }
 },
 "nbformat": 4,
 "nbformat_minor": 2
}
